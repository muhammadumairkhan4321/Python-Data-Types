{
 "cells": [
  {
   "cell_type": "markdown",
   "id": "ac9f55b3",
   "metadata": {},
   "source": [
    "## **PROGRAMING : PYTHON**"
   ]
  },
  {
   "cell_type": "code",
   "execution_count": 1,
   "id": "32190b1f",
   "metadata": {},
   "outputs": [
    {
     "name": "stdout",
     "output_type": "stream",
     "text": [
      "Hello, World\n"
     ]
    }
   ],
   "source": [
    "# \"print\" used for show \n",
    "print(\"Hello, World\")\n"
   ]
  },
  {
   "cell_type": "markdown",
   "id": "52e05d29",
   "metadata": {},
   "source": [
    "## **Integer**"
   ]
  },
  {
   "cell_type": "markdown",
   "id": "08ba432b",
   "metadata": {},
   "source": [
    "- Integer is a number without point"
   ]
  },
  {
   "cell_type": "code",
   "execution_count": 2,
   "id": "15d598ff",
   "metadata": {},
   "outputs": [
    {
     "name": "stdout",
     "output_type": "stream",
     "text": [
      "954\n"
     ]
    },
    {
     "data": {
      "text/plain": [
       "int"
      ]
     },
     "execution_count": 2,
     "metadata": {},
     "output_type": "execute_result"
    }
   ],
   "source": [
    "Marks = 954\n",
    "print(Marks)\n",
    "type(Marks)"
   ]
  },
  {
   "cell_type": "markdown",
   "id": "7b90a474",
   "metadata": {},
   "source": [
    "## **Float**"
   ]
  },
  {
   "cell_type": "markdown",
   "id": "c78f5c5d",
   "metadata": {},
   "source": [
    "- Float is a number with decimal point."
   ]
  },
  {
   "cell_type": "code",
   "execution_count": 3,
   "id": "447b75bb",
   "metadata": {},
   "outputs": [
    {
     "name": "stdout",
     "output_type": "stream",
     "text": [
      "3.7\n"
     ]
    },
    {
     "data": {
      "text/plain": [
       "float"
      ]
     },
     "execution_count": 3,
     "metadata": {},
     "output_type": "execute_result"
    }
   ],
   "source": [
    "CGPA =3.7\n",
    "print(CGPA)\n",
    "type(CGPA)"
   ]
  },
  {
   "cell_type": "markdown",
   "id": "1124cef4",
   "metadata": {},
   "source": [
    "## **String**"
   ]
  },
  {
   "cell_type": "markdown",
   "id": "ffa49796",
   "metadata": {},
   "source": [
    "- All data types in single cort( '  ' ) or double cort ( \" \" ) is called string ."
   ]
  },
  {
   "cell_type": "code",
   "execution_count": 4,
   "id": "50b655c1",
   "metadata": {},
   "outputs": [
    {
     "name": "stdout",
     "output_type": "stream",
     "text": [
      " Corvit \n"
     ]
    },
    {
     "data": {
      "text/plain": [
       "str"
      ]
     },
     "execution_count": 4,
     "metadata": {},
     "output_type": "execute_result"
    }
   ],
   "source": [
    "Center =\" Corvit \"\n",
    "print(Center)\n",
    "type(Center)"
   ]
  },
  {
   "cell_type": "code",
   "execution_count": 6,
   "id": "eff4d09c",
   "metadata": {},
   "outputs": [
    {
     "name": "stdout",
     "output_type": "stream",
     "text": [
      "Name :  Muhammad umair khan\n"
     ]
    },
    {
     "data": {
      "text/plain": [
       "str"
      ]
     },
     "execution_count": 6,
     "metadata": {},
     "output_type": "execute_result"
    }
   ],
   "source": [
    "# Take input(user)\n",
    "Your_Name = input(\"Please enter your good name : \")\n",
    "print(\"Name : \" ,Your_Name)\n",
    "type(Your_Name)\n"
   ]
  },
  {
   "cell_type": "code",
   "execution_count": 9,
   "id": "58a54666",
   "metadata": {},
   "outputs": [
    {
     "name": "stdout",
     "output_type": "stream",
     "text": [
      "Roll No :  916990\n"
     ]
    },
    {
     "data": {
      "text/plain": [
       "int"
      ]
     },
     "execution_count": 9,
     "metadata": {},
     "output_type": "execute_result"
    }
   ],
   "source": [
    "# String change into integer\n",
    "Roll_No = int(input(\"please enter your roll no : \"))\n",
    "print(\"Roll No : \",Roll_No)\n",
    "type(Roll_No)"
   ]
  },
  {
   "cell_type": "code",
   "execution_count": 11,
   "id": "7e16bcaa",
   "metadata": {},
   "outputs": [
    {
     "name": "stdout",
     "output_type": "stream",
     "text": [
      "CGPA :  3.65\n"
     ]
    },
    {
     "data": {
      "text/plain": [
       "float"
      ]
     },
     "execution_count": 11,
     "metadata": {},
     "output_type": "execute_result"
    }
   ],
   "source": [
    "# String change into float\n",
    "CGPA =float(input(\"Please enter your CGPA : \"))\n",
    "print(\"CGPA : \", CGPA)\n",
    "type(CGPA)\n"
   ]
  },
  {
   "cell_type": "markdown",
   "id": "b5f38b7a",
   "metadata": {},
   "source": [
    "### **Sum**"
   ]
  },
  {
   "cell_type": "code",
   "execution_count": 12,
   "id": "6ca1d753",
   "metadata": {},
   "outputs": [
    {
     "name": "stdout",
     "output_type": "stream",
     "text": [
      "49\n"
     ]
    }
   ],
   "source": [
    "a =15\n",
    "b =34\n",
    "sum = a+b\n",
    "print(sum)"
   ]
  },
  {
   "cell_type": "markdown",
   "id": "a078d5c0",
   "metadata": {},
   "source": [
    "### **Subtraction**"
   ]
  },
  {
   "cell_type": "code",
   "execution_count": 1,
   "id": "7ba957d1",
   "metadata": {},
   "outputs": [
    {
     "name": "stdout",
     "output_type": "stream",
     "text": [
      "120\n"
     ]
    }
   ],
   "source": [
    "Profit = 350\n",
    "Loss = 230\n",
    "subtract = Profit - Loss\n",
    "print(subtract)\n"
   ]
  },
  {
   "cell_type": "markdown",
   "id": "24c4998b",
   "metadata": {},
   "source": [
    "### **Multiplication**"
   ]
  },
  {
   "cell_type": "code",
   "execution_count": 1,
   "id": "4a7b469c",
   "metadata": {},
   "outputs": [
    {
     "name": "stdout",
     "output_type": "stream",
     "text": [
      "1500\n"
     ]
    }
   ],
   "source": [
    "apple_price = 150\n",
    "Kg = 10\n",
    "Multiplication =apple_price * Kg\n",
    "print(Multiplication)"
   ]
  },
  {
   "cell_type": "markdown",
   "id": "01783a49",
   "metadata": {},
   "source": [
    "### **Divition**"
   ]
  },
  {
   "cell_type": "code",
   "execution_count": 2,
   "id": "e82d604c",
   "metadata": {},
   "outputs": [
    {
     "name": "stdout",
     "output_type": "stream",
     "text": [
      "79.5\n"
     ]
    }
   ],
   "source": [
    "Obtained_Marks = 95400\n",
    "Total_Marks =1200\n",
    "Percentage =Obtained_Marks/Total_Marks\n",
    "print(Percentage)\n"
   ]
  },
  {
   "cell_type": "code",
   "execution_count": 1,
   "id": "b7247a36",
   "metadata": {},
   "outputs": [
    {
     "name": "stdout",
     "output_type": "stream",
     "text": [
      "Addition : 25\n",
      "Subtraction : -5\n",
      "Multiplication : 150\n",
      "Divition : 0.6666666666666666\n"
     ]
    }
   ],
   "source": [
    "num1 =10\n",
    "num2 =15\n",
    "\n",
    "print(f\"Addition : {num1+num2}\")\n",
    "print(f\"Subtraction : {num1-num2}\")\n",
    "print(f\"Multiplication : {num1*num2}\")\n",
    "print(f\"Divition : {num1/num2}\")"
   ]
  },
  {
   "cell_type": "markdown",
   "id": "604b34d7",
   "metadata": {},
   "source": [
    "### **String**"
   ]
  },
  {
   "cell_type": "code",
   "execution_count": 3,
   "id": "f71d9a7a",
   "metadata": {},
   "outputs": [
    {
     "name": "stdout",
     "output_type": "stream",
     "text": [
      "I am student at corvit  mardan.\n"
     ]
    }
   ],
   "source": [
    "# Add two string\n",
    "str1 = \"I am student at corvit\"\n",
    "str2 = \" mardan\"\n",
    "full = str1 +\" \"+str2+\".\"\n",
    "print(full)"
   ]
  },
  {
   "cell_type": "code",
   "execution_count": 7,
   "id": "5ef47b57",
   "metadata": {},
   "outputs": [
    {
     "name": "stdout",
     "output_type": "stream",
     "text": [
      "I am student at corvit  mardan.\n"
     ]
    },
    {
     "data": {
      "text/plain": [
       "'I AM STUDENT AT CORVIT  MARDAN.'"
      ]
     },
     "execution_count": 7,
     "metadata": {},
     "output_type": "execute_result"
    }
   ],
   "source": [
    "# Total Sentance(alphabet) Capital\n",
    "print(full)\n",
    "full.upper()"
   ]
  },
  {
   "cell_type": "code",
   "execution_count": 9,
   "id": "5b83174c",
   "metadata": {},
   "outputs": [
    {
     "data": {
      "text/plain": [
       "'i am student at corvit  mardan.'"
      ]
     },
     "execution_count": 9,
     "metadata": {},
     "output_type": "execute_result"
    }
   ],
   "source": [
    "# Total sentance(alphabet) small\n",
    "full.lower()"
   ]
  },
  {
   "cell_type": "code",
   "execution_count": 11,
   "id": "1d227594",
   "metadata": {},
   "outputs": [
    {
     "data": {
      "text/plain": [
       "'I am student at corvit  mardan.'"
      ]
     },
     "execution_count": 11,
     "metadata": {},
     "output_type": "execute_result"
    }
   ],
   "source": [
    "# First alphabet of a sentance is capital\n",
    "full.capitalize()\n"
   ]
  },
  {
   "cell_type": "code",
   "execution_count": 13,
   "id": "1774a013",
   "metadata": {},
   "outputs": [
    {
     "data": {
      "text/plain": [
       "'I Am Student At Corvit  Mardan.'"
      ]
     },
     "execution_count": 13,
     "metadata": {},
     "output_type": "execute_result"
    }
   ],
   "source": [
    "# First aplhabet of a word is capital\n",
    "full.title()"
   ]
  },
  {
   "cell_type": "code",
   "execution_count": 14,
   "id": "c4d580be",
   "metadata": {},
   "outputs": [
    {
     "data": {
      "text/plain": [
       "'I am student at corvit  mardan.'"
      ]
     },
     "execution_count": 14,
     "metadata": {},
     "output_type": "execute_result"
    }
   ],
   "source": [
    "full.strip()"
   ]
  },
  {
   "cell_type": "code",
   "execution_count": 15,
   "id": "cdf2c935",
   "metadata": {},
   "outputs": [
    {
     "data": {
      "text/plain": [
       "'I am student at corvit  Peshawar.'"
      ]
     },
     "execution_count": 15,
     "metadata": {},
     "output_type": "execute_result"
    }
   ],
   "source": [
    "# change a word in sentance\n",
    "full.replace(\"mardan\",\"Peshawar\")"
   ]
  },
  {
   "cell_type": "code",
   "execution_count": 16,
   "id": "507fbc96",
   "metadata": {},
   "outputs": [
    {
     "data": {
      "text/plain": [
       "-1"
      ]
     },
     "execution_count": 16,
     "metadata": {},
     "output_type": "execute_result"
    }
   ],
   "source": [
    "# find a word\n",
    "full.find(\"peshawar\")"
   ]
  },
  {
   "cell_type": "markdown",
   "id": "c6f0fab7",
   "metadata": {},
   "source": [
    "- Find a value through index"
   ]
  },
  {
   "cell_type": "code",
   "execution_count": 17,
   "id": "fe638d91",
   "metadata": {},
   "outputs": [
    {
     "data": {
      "text/plain": [
       "'a'"
      ]
     },
     "execution_count": 17,
     "metadata": {},
     "output_type": "execute_result"
    }
   ],
   "source": [
    "full[2]"
   ]
  },
  {
   "cell_type": "code",
   "execution_count": 23,
   "id": "405e036c",
   "metadata": {},
   "outputs": [
    {
     "name": "stdout",
     "output_type": "stream",
     "text": [
      "I am student at corvit  mardan.\n"
     ]
    },
    {
     "data": {
      "text/plain": [
       "'n'"
      ]
     },
     "execution_count": 23,
     "metadata": {},
     "output_type": "execute_result"
    }
   ],
   "source": [
    "print(full)\n",
    "full[-2]"
   ]
  },
  {
   "cell_type": "code",
   "execution_count": 24,
   "id": "40ce6efc",
   "metadata": {},
   "outputs": [
    {
     "data": {
      "text/plain": [
       "'.'"
      ]
     },
     "execution_count": 24,
     "metadata": {},
     "output_type": "execute_result"
    }
   ],
   "source": [
    "full[-1]"
   ]
  },
  {
   "cell_type": "code",
   "execution_count": 25,
   "id": "f0d5c34e",
   "metadata": {},
   "outputs": [
    {
     "data": {
      "text/plain": [
       "'I am st'"
      ]
     },
     "execution_count": 25,
     "metadata": {},
     "output_type": "execute_result"
    }
   ],
   "source": [
    "full[:7]"
   ]
  },
  {
   "cell_type": "code",
   "execution_count": 26,
   "id": "d7183757",
   "metadata": {},
   "outputs": [
    {
     "data": {
      "text/plain": [
       "'I am student at corvit  mardan'"
      ]
     },
     "execution_count": 26,
     "metadata": {},
     "output_type": "execute_result"
    }
   ],
   "source": [
    "full[ :-1]"
   ]
  },
  {
   "cell_type": "markdown",
   "id": "8745761e",
   "metadata": {},
   "source": [
    "## **Bool**"
   ]
  },
  {
   "cell_type": "markdown",
   "id": "95a71a20",
   "metadata": {},
   "source": [
    "- Bool is "
   ]
  },
  {
   "cell_type": "code",
   "execution_count": 12,
   "id": "094737e1",
   "metadata": {},
   "outputs": [
    {
     "name": "stdout",
     "output_type": "stream",
     "text": [
      "it is sunny\n"
     ]
    }
   ],
   "source": [
    "is_sunny =True\n",
    "\n",
    "if is_sunny:\n",
    "    print(\"it is sunny\")\n",
    "else:\n",
    "    print(\"it is running\")    "
   ]
  },
  {
   "cell_type": "code",
   "execution_count": 10,
   "id": "c0507e2c",
   "metadata": {},
   "outputs": [
    {
     "name": "stdout",
     "output_type": "stream",
     "text": [
      "it is raining\n"
     ]
    }
   ],
   "source": [
    "is_weather =False\n",
    "\n",
    "if is_weather:\n",
    "    print(\"it is sunny\")\n",
    "else:\n",
    "    print(\"it is raining\")    "
   ]
  },
  {
   "cell_type": "code",
   "execution_count": 13,
   "id": "d0bb0145",
   "metadata": {},
   "outputs": [
    {
     "name": "stdout",
     "output_type": "stream",
     "text": [
      "It is Sunny\n",
      "It is raining\n"
     ]
    }
   ],
   "source": [
    "is_raining = True\n",
    "\n",
    "if is_sunny and is_raining:\n",
    "    print(\"It is Sunny\")\n",
    "    \n",
    "if is_sunny or is_raining:\n",
    "    print(\"It is raining\")"
   ]
  },
  {
   "cell_type": "code",
   "execution_count": null,
   "id": "f63db463",
   "metadata": {},
   "outputs": [],
   "source": []
  }
 ],
 "metadata": {
  "kernelspec": {
   "display_name": "Python 3",
   "language": "python",
   "name": "python3"
  },
  "language_info": {
   "codemirror_mode": {
    "name": "ipython",
    "version": 3
   },
   "file_extension": ".py",
   "mimetype": "text/x-python",
   "name": "python",
   "nbconvert_exporter": "python",
   "pygments_lexer": "ipython3",
   "version": "3.13.5"
  }
 },
 "nbformat": 4,
 "nbformat_minor": 5
}
