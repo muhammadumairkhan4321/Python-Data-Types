{
 "cells": [
  {
   "cell_type": "markdown",
   "id": "bdb29704",
   "metadata": {},
   "source": [
    "## **Set**"
   ]
  },
  {
   "cell_type": "markdown",
   "id": "70158da5",
   "metadata": {},
   "source": [
    "A set is an unordered collection of unique and immutable elements. It's an abstract data type inspired by the mathematical concept of a finite set."
   ]
  },
  {
   "cell_type": "markdown",
   "id": "06644b04",
   "metadata": {},
   "source": [
    "## **1. Creating Sets**"
   ]
  },
  {
   "cell_type": "code",
   "execution_count": 1,
   "id": "d359d95d",
   "metadata": {},
   "outputs": [
    {
     "name": "stdout",
     "output_type": "stream",
     "text": [
      "{1, 2, 3, 4, 5}\n"
     ]
    }
   ],
   "source": [
    "# Set with initial elements\n",
    "numbers_set = {1, 2, 3, 4, 5}\n",
    "print(numbers_set) # Output: {1, 2, 3, 4, 5} (order might vary)"
   ]
  },
  {
   "cell_type": "code",
   "execution_count": 2,
   "id": "124e06f5",
   "metadata": {},
   "outputs": [
    {
     "name": "stdout",
     "output_type": "stream",
     "text": [
      "{1, 2, 3, 4, 5}\n"
     ]
    }
   ],
   "source": [
    " # Set from a list duplicates are automatically removed\n",
    "my_list = [1, 2, 2, 3, 4, 4, 5]\n",
    "unique_numbers = set(my_list)\n",
    "print(unique_numbers) # Output: {1, 2, 3, 4, 5}"
   ]
  },
  {
   "cell_type": "code",
   "execution_count": 4,
   "id": "3c7c5013",
   "metadata": {},
   "outputs": [
    {
     "name": "stdout",
     "output_type": "stream",
     "text": [
      "{'hello', (1, 2), 3.14, 1}\n"
     ]
    }
   ],
   "source": [
    "# Set with mixed immutable data types\n",
    "mixed_set = {1, \"hello\", 3.14, True, (1, 2)} # Tuples are immutable, so they can be in a set\n",
    "print(mixed_set) # Output: {1, 3.14, 'hello', (1, 2)} (True is usually represented as 1 in sets, so it might not show explicitly if 1 is present)"
   ]
  },
  {
   "cell_type": "markdown",
   "id": "cc2819e2",
   "metadata": {},
   "source": [
    "## 2. Adding Elements to a Set"
   ]
  },
  {
   "cell_type": "code",
   "execution_count": 5,
   "id": "6fded3e1",
   "metadata": {},
   "outputs": [
    {
     "name": "stdout",
     "output_type": "stream",
     "text": [
      "{1, 2, 3, 4}\n",
      "{1, 2, 3, 4}\n"
     ]
    }
   ],
   "source": [
    "my_set = {1, 2, 3}\n",
    "my_set.add(4)\n",
    "print(my_set) # Output: {1, 2, 3, 4}\n",
    "\n",
    "my_set.add(2) # Trying to add a duplicate\n",
    "print(my_set) # Output: {1, 2, 3, 4} (no change)"
   ]
  },
  {
   "cell_type": "code",
   "execution_count": 6,
   "id": "4a36fa38",
   "metadata": {},
   "outputs": [
    {
     "name": "stdout",
     "output_type": "stream",
     "text": [
      "{1, 2, 3, 4, 5, 6}\n",
      "{1, 2, 3, 4, 5, 6, 7, 8}\n"
     ]
    }
   ],
   "source": [
    "my_set = {1, 2, 3}\n",
    "my_set.update([4, 5, 6])\n",
    "print(my_set) # Output: {1, 2, 3, 4, 5, 6}\n",
    "\n",
    "my_set.update({5, 7, 8}) # Update with another set, duplicates ignored\n",
    "print(my_set) # Output: {1, 2, 3, 4, 5, 6, 7, 8}"
   ]
  },
  {
   "cell_type": "markdown",
   "id": "481c5f24",
   "metadata": {},
   "source": [
    "## 3. Removing Elements from a Set"
   ]
  },
  {
   "cell_type": "code",
   "execution_count": 7,
   "id": "357c6853",
   "metadata": {},
   "outputs": [
    {
     "name": "stdout",
     "output_type": "stream",
     "text": [
      "{1, 2, 4}\n"
     ]
    },
    {
     "ename": "KeyError",
     "evalue": "99",
     "output_type": "error",
     "traceback": [
      "\u001b[31m---------------------------------------------------------------------------\u001b[39m",
      "\u001b[31mKeyError\u001b[39m                                  Traceback (most recent call last)",
      "\u001b[36mCell\u001b[39m\u001b[36m \u001b[39m\u001b[32mIn[7]\u001b[39m\u001b[32m, line 5\u001b[39m\n\u001b[32m      2\u001b[39m my_set.remove(\u001b[32m3\u001b[39m)\n\u001b[32m      3\u001b[39m \u001b[38;5;28mprint\u001b[39m(my_set) \u001b[38;5;66;03m# Output: {1, 2, 4}\u001b[39;00m\n\u001b[32m----> \u001b[39m\u001b[32m5\u001b[39m \u001b[43mmy_set\u001b[49m\u001b[43m.\u001b[49m\u001b[43mremove\u001b[49m\u001b[43m(\u001b[49m\u001b[32;43m99\u001b[39;49m\u001b[43m)\u001b[49m \u001b[38;5;66;03m# KeyError: 99\u001b[39;00m\n",
      "\u001b[31mKeyError\u001b[39m: 99"
     ]
    }
   ],
   "source": [
    "my_set = {1, 2, 3, 4}\n",
    "my_set.remove(3)\n",
    "print(my_set) # Output: {1, 2, 4}\n",
    "\n",
    "my_set.remove(99) # KeyError: 99"
   ]
  },
  {
   "cell_type": "code",
   "execution_count": 8,
   "id": "cb416ada",
   "metadata": {},
   "outputs": [
    {
     "name": "stdout",
     "output_type": "stream",
     "text": [
      "{1, 3, 4}\n",
      "{1, 3, 4}\n"
     ]
    }
   ],
   "source": [
    "my_set = {1, 2, 3, 4}\n",
    "my_set.discard(2)\n",
    "print(my_set) # Output: {1, 3, 4}\n",
    "\n",
    "my_set.discard(99) # No error, simply ignored\n",
    "print(my_set) # Output: {1, 3, 4}"
   ]
  },
  {
   "cell_type": "code",
   "execution_count": 9,
   "id": "ef2c115c",
   "metadata": {},
   "outputs": [
    {
     "name": "stdout",
     "output_type": "stream",
     "text": [
      "Removed: 1\n",
      "{2, 3}\n"
     ]
    }
   ],
   "source": [
    "my_set = {1, 2, 3}\n",
    "removed_item = my_set.pop()\n",
    "print(f\"Removed: {removed_item}\")\n",
    "print(my_set) # Output will vary, e.g., Removed: 1, Set: {2, 3}"
   ]
  },
  {
   "cell_type": "code",
   "execution_count": 10,
   "id": "2e9888c6",
   "metadata": {},
   "outputs": [
    {
     "name": "stdout",
     "output_type": "stream",
     "text": [
      "set()\n"
     ]
    }
   ],
   "source": [
    "my_set = {1, 2, 3}\n",
    "my_set.clear()\n",
    "print(my_set) # Output: set()"
   ]
  },
  {
   "cell_type": "code",
   "execution_count": 11,
   "id": "e7c38f92",
   "metadata": {},
   "outputs": [
    {
     "name": "stdout",
     "output_type": "stream",
     "text": [
      "{1, 2, 3, 4, 5, 6}\n",
      "{1, 2, 3, 4, 5, 6}\n"
     ]
    }
   ],
   "source": [
    "set_a = {1, 2, 3, 4}\n",
    "set_b = {3, 4, 5, 6}\n",
    "set_c = {1, 2}\n",
    "print(set_a | set_b)       # Output: {1, 2, 3, 4, 5, 6}\n",
    "print(set_a.union(set_b))  # Output: {1, 2, 3, 4, 5, 6}\n"
   ]
  },
  {
   "cell_type": "code",
   "execution_count": 12,
   "id": "5f85705d",
   "metadata": {},
   "outputs": [
    {
     "name": "stdout",
     "output_type": "stream",
     "text": [
      "{3, 4}\n",
      "{3, 4}\n"
     ]
    }
   ],
   "source": [
    "print(set_a & set_b)              # Output: {3, 4}\n",
    "print(set_a.intersection(set_b))  # Output: {3, 4}"
   ]
  },
  {
   "cell_type": "code",
   "execution_count": 13,
   "id": "a6d36696",
   "metadata": {},
   "outputs": [
    {
     "name": "stdout",
     "output_type": "stream",
     "text": [
      "{1, 2}\n",
      "{1, 2}\n",
      "{5, 6}\n"
     ]
    }
   ],
   "source": [
    "print(set_a - set_b)              # Output: {1, 2}\n",
    "print(set_a.difference(set_b))    # Output: {1, 2}\n",
    "\n",
    "print(set_b - set_a)              # Output: {5, 6}"
   ]
  },
  {
   "cell_type": "code",
   "execution_count": 14,
   "id": "78ce9f75",
   "metadata": {},
   "outputs": [
    {
     "name": "stdout",
     "output_type": "stream",
     "text": [
      "{1, 2, 5, 6}\n",
      "{1, 2, 5, 6}\n"
     ]
    }
   ],
   "source": [
    "print(set_a ^ set_b)                         # Output: {1, 2, 5, 6}\n",
    "print(set_a.symmetric_difference(set_b))     # Output: {1, 2, 5, 6}"
   ]
  },
  {
   "cell_type": "code",
   "execution_count": 15,
   "id": "4545b1dc",
   "metadata": {},
   "outputs": [
    {
     "name": "stdout",
     "output_type": "stream",
     "text": [
      "True\n",
      "False\n"
     ]
    }
   ],
   "source": [
    "print(set_c <= set_a)            # Output: True (all elements of set_c are in set_a)\n",
    "print(set_a.issubset(set_c))     # Output: False"
   ]
  },
  {
   "cell_type": "code",
   "execution_count": 16,
   "id": "07b4ff83",
   "metadata": {},
   "outputs": [
    {
     "name": "stdout",
     "output_type": "stream",
     "text": [
      "True\n",
      "False\n"
     ]
    }
   ],
   "source": [
    "print(set_a >= set_c)            # Output: True (set_a contains all elements of set_c)\n",
    "print(set_c.issuperset(set_a))   # Output: False"
   ]
  },
  {
   "cell_type": "code",
   "execution_count": 17,
   "id": "e44688de",
   "metadata": {},
   "outputs": [
    {
     "name": "stdout",
     "output_type": "stream",
     "text": [
      "False\n",
      "True\n"
     ]
    }
   ],
   "source": [
    "set_d = {7, 8}\n",
    "print(set_a.isdisjoint(set_b)) # Output: False (they share 3, 4)\n",
    "print(set_a.isdisjoint(set_d)) # Output: True (no common elements)"
   ]
  },
  {
   "cell_type": "code",
   "execution_count": 18,
   "id": "75b494fb",
   "metadata": {},
   "outputs": [
    {
     "name": "stdout",
     "output_type": "stream",
     "text": [
      "4\n"
     ]
    }
   ],
   "source": [
    "my_set = {1, 2, 3, 4}\n",
    "print(len(my_set)) # Output: 4"
   ]
  },
  {
   "cell_type": "code",
   "execution_count": 19,
   "id": "54ebee5b",
   "metadata": {},
   "outputs": [
    {
     "name": "stdout",
     "output_type": "stream",
     "text": [
      "True\n",
      "True\n"
     ]
    }
   ],
   "source": [
    "my_set = {\"apple\", \"banana\", \"cherry\"}\n",
    "print(\"banana\" in my_set)    # Output: True\n",
    "print(\"grape\" not in my_set) # Output: True"
   ]
  },
  {
   "cell_type": "code",
   "execution_count": 20,
   "id": "02c21114",
   "metadata": {},
   "outputs": [
    {
     "name": "stdout",
     "output_type": "stream",
     "text": [
      "[1, 2, 3]\n"
     ]
    }
   ],
   "source": [
    "my_list = [1, 2, 2, 3, 1]\n",
    "unique_elements = list(set(my_list)) # Convert list to set (removes duplicates), then back to list\n",
    "print(unique_elements) # Output: [1, 2, 3] (order might vary)"
   ]
  }
 ],
 "metadata": {
  "kernelspec": {
   "display_name": "Python 3",
   "language": "python",
   "name": "python3"
  },
  "language_info": {
   "codemirror_mode": {
    "name": "ipython",
    "version": 3
   },
   "file_extension": ".py",
   "mimetype": "text/x-python",
   "name": "python",
   "nbconvert_exporter": "python",
   "pygments_lexer": "ipython3",
   "version": "3.13.5"
  }
 },
 "nbformat": 4,
 "nbformat_minor": 5
}
