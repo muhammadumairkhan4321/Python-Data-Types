{
 "cells": [
  {
   "cell_type": "markdown",
   "id": "a8c5f2cc",
   "metadata": {},
   "source": [
    "## **List**"
   ]
  },
  {
   "cell_type": "markdown",
   "id": "7878059a",
   "metadata": {},
   "source": [
    "- A list in Python is an ordered, mutable (changeable) collection of items. This means:"
   ]
  },
  {
   "cell_type": "markdown",
   "id": "2e6f5c74",
   "metadata": {},
   "source": [
    "- Ordered: The items have a defined order, and that order will not change. You can access items by their position (index).\n",
    "\n",
    "- Mutable: You can change, add, or remove items after the list has been created.\n",
    "\n",
    "- Collection: A list can hold items of different data types (integers, floats, strings, even other lists!)"
   ]
  },
  {
   "cell_type": "markdown",
   "id": "d3b89bf5",
   "metadata": {},
   "source": [
    "## **1. Creating Lists**"
   ]
  },
  {
   "cell_type": "code",
   "execution_count": 1,
   "id": "1977ba2c",
   "metadata": {},
   "outputs": [
    {
     "name": "stdout",
     "output_type": "stream",
     "text": [
      "[]\n"
     ]
    }
   ],
   "source": [
    "# Empty list\n",
    "my_list = []\n",
    "print(my_list) # Output: []"
   ]
  },
  {
   "cell_type": "code",
   "execution_count": 2,
   "id": "5e6fc402",
   "metadata": {},
   "outputs": [
    {
     "name": "stdout",
     "output_type": "stream",
     "text": [
      "[1, 2, 3, 4, 5]\n"
     ]
    }
   ],
   "source": [
    "# List of numbers\n",
    "numbers = [1, 2, 3, 4, 5]\n",
    "print(numbers) # Output: [1, 2, 3, 4, 5]"
   ]
  },
  {
   "cell_type": "code",
   "execution_count": 3,
   "id": "ee0a5fe2",
   "metadata": {},
   "outputs": [
    {
     "name": "stdout",
     "output_type": "stream",
     "text": [
      "['apple', 'banana', 'cherry']\n"
     ]
    }
   ],
   "source": [
    "# List of strings\n",
    "fruits = [\"apple\", \"banana\", \"cherry\"]\n",
    "print(fruits) # Output: ['apple', 'banana', 'cherry']"
   ]
  },
  {
   "cell_type": "code",
   "execution_count": 4,
   "id": "566f165f",
   "metadata": {},
   "outputs": [
    {
     "name": "stdout",
     "output_type": "stream",
     "text": [
      "[1, 'hello', 3.14, True]\n"
     ]
    }
   ],
   "source": [
    "# List with mixed data types\n",
    "mixed_list = [1, \"hello\", 3.14, True]\n",
    "print(mixed_list) # Output: [1, 'hello', 3.14, True]"
   ]
  },
  {
   "cell_type": "code",
   "execution_count": 5,
   "id": "47145940",
   "metadata": {},
   "outputs": [
    {
     "name": "stdout",
     "output_type": "stream",
     "text": [
      "[[1, 2, 3], [4, 5, 6], [7, 8, 9]]\n"
     ]
    }
   ],
   "source": [
    "# Nested list (list of lists)\n",
    "matrix = [[1, 2, 3], [4, 5, 6], [7, 8, 9]]\n",
    "print(matrix) # Output: [[1, 2, 3], [4, 5, 6], [7, 8, 9]]"
   ]
  },
  {
   "cell_type": "markdown",
   "id": "18ff5049",
   "metadata": {},
   "source": [
    "## **2. Accessing List Elements (Indexing)**"
   ]
  },
  {
   "cell_type": "code",
   "execution_count": 6,
   "id": "5dfd6c0d",
   "metadata": {},
   "outputs": [
    {
     "name": "stdout",
     "output_type": "stream",
     "text": [
      "apple\n",
      "cherry\n",
      "date\n",
      "banana\n"
     ]
    }
   ],
   "source": [
    "fruits = [\"apple\", \"banana\", \"cherry\", \"date\"]\n",
    "\n",
    "print(fruits[0])   # Output: apple (first element)\n",
    "print(fruits[2])   # Output: cherry (third element)\n",
    "print(fruits[-1])  # Output: date (last element)\n",
    "print(fruits[-3])  # Output: banana (third to last element)"
   ]
  },
  {
   "cell_type": "code",
   "execution_count": 8,
   "id": "e538fbed",
   "metadata": {},
   "outputs": [
    {
     "name": "stdout",
     "output_type": "stream",
     "text": [
      "3\n"
     ]
    }
   ],
   "source": [
    "# Accessing elements in a nested list\n",
    "matrix=[[1,2],[3,4],[5,6]]\n",
    "print(matrix[1][0]) # Output: 3 (element at row 1, column 0)"
   ]
  },
  {
   "cell_type": "markdown",
   "id": "d9436fd3",
   "metadata": {},
   "source": [
    "## **3. Slicing Lists**"
   ]
  },
  {
   "cell_type": "markdown",
   "id": "772dbad2",
   "metadata": {},
   "source": [
    "### List Slicing  \n",
    "Extracts a sub-list from a list using the syntax:  \n",
    "`list[start:end:step]`  \n",
    "\n",
    "#### Parameters:  \n",
    "- **`start`** (optional)  \n",
    "  - Starting index (*inclusive*).  \n",
    "  - Default: `0` (beginning of the list).  \n",
    "\n",
    "- **`end`** (optional)  \n",
    "  - Ending index (*exclusive*).  \n",
    "  - Default: `len(list)` (end of the list).  \n",
    "\n",
    "- **`step`** (optional)  \n",
    "  - Interval between items.  \n",
    "  - Default: `1` (every item). "
   ]
  },
  {
   "cell_type": "code",
   "execution_count": 9,
   "id": "96b2e2aa",
   "metadata": {},
   "outputs": [
    {
     "name": "stdout",
     "output_type": "stream",
     "text": [
      "[2, 3, 4, 5, 6]\n",
      "[0, 1, 2, 3, 4]\n",
      "[5, 6, 7, 8, 9]\n",
      "[0, 1, 2, 3, 4, 5, 6, 7, 8, 9]\n",
      "[0, 2, 4, 6, 8]\n",
      "[9, 8, 7, 6, 5, 4, 3, 2, 1, 0]\n"
     ]
    }
   ],
   "source": [
    "numbers = [0, 1, 2, 3, 4, 5, 6, 7, 8, 9]\n",
    "\n",
    "print(numbers[2:7])    # Output: [2, 3, 4, 5, 6] (elements from index 2 up to, but not including, index 7)\n",
    "print(numbers[:5])     # Output: [0, 1, 2, 3, 4] (elements from the beginning up to index 5)\n",
    "print(numbers[5:])     # Output: [5, 6, 7, 8, 9] (elements from index 5 to the end)\n",
    "print(numbers[:])      # Output: [0, 1, 2, 3, 4, 5, 6, 7, 8, 9] (a copy of the entire list)\n",
    "print(numbers[::2])    # Output: [0, 2, 4, 6, 8] (every second element)\n",
    "print(numbers[::-1])   # Output: [9, 8, 7, 6, 5, 4, 3, 2, 1, 0] (reverse the list)"
   ]
  },
  {
   "cell_type": "markdown",
   "id": "64df062c",
   "metadata": {},
   "source": [
    "## **4. Modifying Lists**"
   ]
  },
  {
   "cell_type": "markdown",
   "id": "b5219674",
   "metadata": {},
   "source": [
    "## **Changing Elements**"
   ]
  },
  {
   "cell_type": "code",
   "execution_count": 12,
   "id": "d85cab8b",
   "metadata": {},
   "outputs": [
    {
     "name": "stdout",
     "output_type": "stream",
     "text": [
      "['apple', 'orange', 'cherry']\n"
     ]
    }
   ],
   "source": [
    "fruits = [\"apple\", \"banana\", \"cherry\"]\n",
    "fruits[1] = \"orange\" # Change 'banana' to 'orange'\n",
    "print(fruits) # Output: ['apple', 'orange', 'cherry']"
   ]
  },
  {
   "cell_type": "markdown",
   "id": "a3dff307",
   "metadata": {},
   "source": [
    "## **Adding Elements**"
   ]
  },
  {
   "cell_type": "code",
   "execution_count": 14,
   "id": "f85070c7",
   "metadata": {},
   "outputs": [
    {
     "name": "stdout",
     "output_type": "stream",
     "text": [
      "[1, 2, 3, 4]\n"
     ]
    }
   ],
   "source": [
    "my_list = [1, 2, 3]\n",
    "my_list.append(4)\n",
    "print(my_list) # Output: [1, 2, 3, 4]"
   ]
  },
  {
   "cell_type": "code",
   "execution_count": 15,
   "id": "dbe2b429",
   "metadata": {},
   "outputs": [
    {
     "name": "stdout",
     "output_type": "stream",
     "text": [
      "[1, 99, 2, 3]\n"
     ]
    }
   ],
   "source": [
    "my_list = [1, 2, 3]\n",
    "my_list.insert(1, 99) # Insert 99 at index 1\n",
    "print(my_list) # Output: [1, 99, 2, 3]"
   ]
  },
  {
   "cell_type": "code",
   "execution_count": 16,
   "id": "afc94fae",
   "metadata": {},
   "outputs": [
    {
     "name": "stdout",
     "output_type": "stream",
     "text": [
      "[1, 2, 3, 4, 5]\n"
     ]
    }
   ],
   "source": [
    "list1 = [1, 2, 3]\n",
    "list2 = [4, 5]\n",
    "list1.extend(list2)\n",
    "print(list1) # Output: [1, 2, 3, 4, 5]"
   ]
  },
  {
   "cell_type": "code",
   "execution_count": 17,
   "id": "19514973",
   "metadata": {},
   "outputs": [
    {
     "name": "stdout",
     "output_type": "stream",
     "text": [
      "[1, 2, 3, 4]\n"
     ]
    }
   ],
   "source": [
    "# You can also use the `+` operator for concatenation, but it creates a new list\n",
    "list3 = [1, 2]\n",
    "list4 = [3, 4]\n",
    "combined_list = list3 + list4\n",
    "print(combined_list) # Output: [1, 2, 3, 4]"
   ]
  },
  {
   "cell_type": "markdown",
   "id": "41edb706",
   "metadata": {},
   "source": [
    "## **Removing Elements**"
   ]
  },
  {
   "cell_type": "code",
   "execution_count": 18,
   "id": "c5bf4e58",
   "metadata": {},
   "outputs": [
    {
     "name": "stdout",
     "output_type": "stream",
     "text": [
      "[1, 3, 2, 4]\n"
     ]
    }
   ],
   "source": [
    "my_list = [1, 2, 3, 2, 4]\n",
    "my_list.remove(2) # Removes the first '2'\n",
    "print(my_list) # Output: [1, 3, 2, 4]"
   ]
  },
  {
   "cell_type": "code",
   "execution_count": 19,
   "id": "203f9ebb",
   "metadata": {},
   "outputs": [
    {
     "name": "stdout",
     "output_type": "stream",
     "text": [
      "20\n",
      "[10, 30, 40]\n",
      "40\n",
      "[10, 30]\n"
     ]
    }
   ],
   "source": [
    "my_list = [10, 20, 30, 40]\n",
    "removed_item = my_list.pop(1) # Removes element at index 1 (20)\n",
    "print(removed_item) # Output: 20\n",
    "print(my_list)      # Output: [10, 30, 40]\n",
    "\n",
    "last_item = my_list.pop() # Removes the last element (40)\n",
    "print(last_item)  # Output: 40\n",
    "print(my_list)    # Output: [10, 30]"
   ]
  },
  {
   "cell_type": "code",
   "execution_count": 21,
   "id": "1386e51b",
   "metadata": {},
   "outputs": [
    {
     "name": "stdout",
     "output_type": "stream",
     "text": [
      "[1, 2, 4, 5]\n",
      "[1, 5]\n"
     ]
    }
   ],
   "source": [
    "my_list = [1, 2, 3, 4, 5]\n",
    "del my_list[2] # Removes element at index 2 (3)\n",
    "print(my_list) # Output: [1, 2, 4, 5]\n",
    "\n",
    "del my_list[1:3] # Removes elements from index 1 up to (but not including) index 3\n",
    "print(my_list) # Output: [1, 5]"
   ]
  },
  {
   "cell_type": "code",
   "execution_count": 22,
   "id": "4644cf37",
   "metadata": {},
   "outputs": [
    {
     "name": "stdout",
     "output_type": "stream",
     "text": [
      "[]\n"
     ]
    }
   ],
   "source": [
    "my_list = [1, 2, 3]\n",
    "my_list.clear()\n",
    "print(my_list) # Output: []"
   ]
  },
  {
   "cell_type": "code",
   "execution_count": 23,
   "id": "bf273582",
   "metadata": {},
   "outputs": [
    {
     "name": "stdout",
     "output_type": "stream",
     "text": [
      "5\n"
     ]
    }
   ],
   "source": [
    "# we check the lenght of my_list\n",
    "my_list = [1, 2, 3, 4, 5]\n",
    "print(len(my_list)) # Output: 5  "
   ]
  },
  {
   "cell_type": "code",
   "execution_count": 24,
   "id": "d7da365f",
   "metadata": {},
   "outputs": [
    {
     "name": "stdout",
     "output_type": "stream",
     "text": [
      "1\n",
      "3\n"
     ]
    }
   ],
   "source": [
    "my_list = [\"a\", \"b\", \"c\", \"b\"]\n",
    "print(my_list.index(\"b\")) # Output: 1\n",
    "print(my_list.index(\"b\", 2)) # Output: 3 (starts searching from index 2)"
   ]
  },
  {
   "cell_type": "code",
   "execution_count": 25,
   "id": "a7c6ab2a",
   "metadata": {},
   "outputs": [
    {
     "name": "stdout",
     "output_type": "stream",
     "text": [
      "3\n"
     ]
    }
   ],
   "source": [
    "my_list = [1, 2, 2, 3, 2, 4]\n",
    "print(my_list.count(2)) # Output: 3"
   ]
  },
  {
   "cell_type": "code",
   "execution_count": 26,
   "id": "79e8f305",
   "metadata": {},
   "outputs": [
    {
     "name": "stdout",
     "output_type": "stream",
     "text": [
      "[1, 1, 2, 3, 4, 5, 9]\n",
      "['cherry', 'banana', 'apple']\n"
     ]
    }
   ],
   "source": [
    "numbers = [3, 1, 4, 1, 5, 9, 2]\n",
    "numbers.sort()\n",
    "print(numbers) # Output: [1, 1, 2, 3, 4, 5, 9]\n",
    "\n",
    "words = [\"banana\", \"apple\", \"cherry\"]\n",
    "words.sort(reverse=True)\n",
    "print(words) # Output: ['cherry', 'banana', 'apple']"
   ]
  },
  {
   "cell_type": "code",
   "execution_count": 27,
   "id": "d92f5192",
   "metadata": {},
   "outputs": [
    {
     "name": "stdout",
     "output_type": "stream",
     "text": [
      "[5, 4, 3, 2, 1]\n"
     ]
    }
   ],
   "source": [
    "my_list = [1, 2, 3, 4, 5]\n",
    "my_list.reverse()\n",
    "print(my_list) # Output: [5, 4, 3, 2, 1]"
   ]
  },
  {
   "cell_type": "code",
   "execution_count": null,
   "id": "b4e8bcf2",
   "metadata": {},
   "outputs": [],
   "source": []
  }
 ],
 "metadata": {
  "kernelspec": {
   "display_name": "Python 3",
   "language": "python",
   "name": "python3"
  },
  "language_info": {
   "codemirror_mode": {
    "name": "ipython",
    "version": 3
   },
   "file_extension": ".py",
   "mimetype": "text/x-python",
   "name": "python",
   "nbconvert_exporter": "python",
   "pygments_lexer": "ipython3",
   "version": "3.13.5"
  }
 },
 "nbformat": 4,
 "nbformat_minor": 5
}
