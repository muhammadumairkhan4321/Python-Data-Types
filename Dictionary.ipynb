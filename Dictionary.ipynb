{
 "cells": [
  {
   "cell_type": "markdown",
   "id": "e1fca0e0",
   "metadata": {},
   "source": [
    "## **Dictionary**"
   ]
  },
  {
   "cell_type": "markdown",
   "id": "f46e8535",
   "metadata": {},
   "source": [
    "### Dictionary (`dict`)  \n",
    "An **unordered**, **mutable** collection of key-value pairs, optimized for fast lookups by unique keys.  \n",
    "\n",
    "#### Key Properties:  \n",
    "- **Unordered** (Python 3.7+):  \n",
    "  - Items have no fixed order (though insertion order is preserved in Python 3.7+).  \n",
    "  - No indexing by position—only by key.  \n",
    "\n",
    "- **Mutable**:  \n",
    "  - Can add, modify, or delete key-value pairs after creation.  \n",
    "\n",
    "- **Keys are Unique**:  \n",
    "  - Duplicate keys are not allowed (new values overwrite old ones).  \n",
    "\n",
    "- **Heterogeneous**:  \n",
    "  - Keys/values can be of any type (but keys must be *hashable*, e.g., strings, numbers, tuples).  "
   ]
  },
  {
   "cell_type": "markdown",
   "id": "f3983cc2",
   "metadata": {},
   "source": [
    "## **1. Creating Dictionary**"
   ]
  },
  {
   "cell_type": "code",
   "execution_count": 2,
   "id": "87c6b313",
   "metadata": {},
   "outputs": [
    {
     "name": "stdout",
     "output_type": "stream",
     "text": [
      "{}\n"
     ]
    }
   ],
   "source": [
    "# Empty dictionary\n",
    "Emp_dict ={}\n",
    "print(Emp_dict)"
   ]
  },
  {
   "cell_type": "code",
   "execution_count": 7,
   "id": "72e3ac2a",
   "metadata": {},
   "outputs": [
    {
     "name": "stdout",
     "output_type": "stream",
     "text": [
      "{'Name': 'Ali Khan', 'Roll_No': 12, 'Class': '2nd Year FSc', 'Marks': 954}\n"
     ]
    }
   ],
   "source": [
    "# Dictionary with string keys and various vakues\n",
    "person ={\n",
    "    \"Name\" : \"Ali Khan\",\n",
    "    \"Roll_No\" : 12,\n",
    "    \"Class\" : \"2nd Year FSc\",\n",
    "    \"Marks\" : 954\n",
    "}\n",
    "print(person)  #Output :{'Name': 'Ali Khan', 'Roll_No': 12, 'Class': '2nd Year FSc', 'Marks': 954}"
   ]
  },
  {
   "cell_type": "code",
   "execution_count": 8,
   "id": "df0e3143",
   "metadata": {},
   "outputs": [
    {
     "name": "stdout",
     "output_type": "stream",
     "text": [
      "{12: 'C', 13: 'D', 14: 'A+'}\n"
     ]
    }
   ],
   "source": [
    "# dictionary with integer keys\n",
    "grades ={\n",
    "    12 : \"C\",\n",
    "    13 : \"D\",\n",
    "    14 : \"A+\"\n",
    "}\n",
    "print(grades) # Output :{12: 'C', 13: 'D', 14: 'A+'}"
   ]
  },
  {
   "cell_type": "code",
   "execution_count": 9,
   "id": "68a3c4e5",
   "metadata": {},
   "outputs": [
    {
     "name": "stdout",
     "output_type": "stream",
     "text": [
      "{'name': 'Bob', 1: 'one', (2, 3): 'a tuple key'}\n"
     ]
    }
   ],
   "source": [
    "# Dictionary with mixed key types (generally not recommended for readability)\n",
    "mixed_keys = {\n",
    "    \"name\": \"Bob\",\n",
    "    1: \"one\",\n",
    "    (2, 3): \"a tuple key\" # Tuples can be keys because they are immutable\n",
    "}\n",
    "print(mixed_keys) # Output: {'name': 'Bob', 1: 'one', (2, 3): 'a tuple key'}"
   ]
  },
  {
   "cell_type": "code",
   "execution_count": 13,
   "id": "d8307f62",
   "metadata": {},
   "outputs": [
    {
     "name": "stdout",
     "output_type": "stream",
     "text": [
      "{'type': 'Dog', 'breed': 'Puppy', 'Age': 3}\n"
     ]
    }
   ],
   "source": [
    "# Dictionary using dict() constructor with keyword arguments\n",
    "animal =dict(type=\"Dog\", breed=\"Puppy\",Age =3 )\n",
    "print(animal) # Output :{'type': 'Dog', 'breed': 'Puppy', 'Age': 3}"
   ]
  },
  {
   "cell_type": "code",
   "execution_count": 14,
   "id": "2f311ea9",
   "metadata": {},
   "outputs": [
    {
     "name": "stdout",
     "output_type": "stream",
     "text": [
      "{'apple': 10, 'banana': 20, 'cherry': 30}\n"
     ]
    }
   ],
   "source": [
    "# Dictionary from a list of tuples (each tuple is a key-value pair)\n",
    "items_list = [(\"apple\", 10), (\"banana\", 20), (\"cherry\", 30)]\n",
    "fruits_inventory = dict(items_list)\n",
    "print(fruits_inventory) # Output: {'apple': 10, 'banana': 20, 'cherry': 30}"
   ]
  },
  {
   "cell_type": "markdown",
   "id": "8e3d2b3f",
   "metadata": {},
   "source": [
    "## **2. Accessing Dictionary Values**"
   ]
  },
  {
   "cell_type": "code",
   "execution_count": 16,
   "id": "9c8d31af",
   "metadata": {},
   "outputs": [
    {
     "name": "stdout",
     "output_type": "stream",
     "text": [
      "Ali Khan\n",
      "30\n"
     ]
    }
   ],
   "source": [
    "person = {\n",
    "    \"name\": \"Ali Khan\",\n",
    "    \"age\": 30,\n",
    "    \"city\": \"Old Bridge\"\n",
    "}\n",
    "\n",
    "print(person[\"name\"]) # Output: Ali Khan\n",
    "print(person[\"age\"])  # Output: 30"
   ]
  },
  {
   "cell_type": "code",
   "execution_count": 18,
   "id": "a226ea1b",
   "metadata": {},
   "outputs": [
    {
     "name": "stdout",
     "output_type": "stream",
     "text": [
      "Old Bridge\n",
      "None\n",
      "N/A\n"
     ]
    }
   ],
   "source": [
    "# Using the .get() method (recommended for safer access)\n",
    "# If the key doesn't exist, [] will raise a KeyError, while .get() returns None or a default value.\n",
    "print(person.get(\"city\"))     # Output: Old Bridge\n",
    "print(person.get(\"country\"))  # Output: None (key 'country' doesn't exist)\n",
    "print(person.get(\"zip_code\", \"N/A\")) # Output: N/A (provides a default value if key not found)"
   ]
  },
  {
   "cell_type": "markdown",
   "id": "13d79232",
   "metadata": {},
   "source": [
    "## **3. Modifying Dictionaries**"
   ]
  },
  {
   "cell_type": "code",
   "execution_count": 19,
   "id": "12de3336",
   "metadata": {},
   "outputs": [
    {
     "name": "stdout",
     "output_type": "stream",
     "text": [
      "{'name': 'Alice', 'age': 31, 'city': 'New York'}\n"
     ]
    }
   ],
   "source": [
    "person = {\n",
    "    \"name\": \"Alice\",\n",
    "    \"age\": 30,\n",
    "    \"city\": \"New York\"\n",
    "}\n",
    "\n",
    "person[\"age\"] = 31 # Change Alice's age\n",
    "print(person) # Output: {'name': 'Alice', 'age': 31, 'city': 'New York'}"
   ]
  },
  {
   "cell_type": "code",
   "execution_count": 22,
   "id": "bf0b5eb0",
   "metadata": {},
   "outputs": [
    {
     "name": "stdout",
     "output_type": "stream",
     "text": [
      "{'name ': 'Owais Khan', 'Age ': 21, 'City': 'Mardan', 'Occupation': 'Engineer'}\n"
     ]
    }
   ],
   "source": [
    "person ={\n",
    "    \"name \" : \"Owais Khan\",\n",
    "    \"Age \" : 21,\n",
    "    \"City\" :\"Mardan\"\n",
    "}\n",
    "\n",
    "person[\"Occupation\"] =\"Engineer\" # Add a new key-value pair\n",
    "print(person) # Output: {'name': 'Alice', 'age': 31, 'city': 'New York'}"
   ]
  },
  {
   "cell_type": "code",
   "execution_count": 25,
   "id": "5cbbba82",
   "metadata": {},
   "outputs": [
    {
     "name": "stdout",
     "output_type": "stream",
     "text": [
      "{'name ': 'Owais Khan', 'Age ': 21}\n"
     ]
    }
   ],
   "source": [
    "person ={\n",
    "    \"name \" : \"Owais Khan\",\n",
    "    \"Age \" : 21,\n",
    "    \"City\" :\"Mardan\"\n",
    "}\n",
    "del person[\"City\"]\n",
    "print(person) # Output :{'name ': 'Owais Khan', 'Age ': 21}"
   ]
  },
  {
   "cell_type": "code",
   "execution_count": 26,
   "id": "c55c946c",
   "metadata": {},
   "outputs": [
    {
     "name": "stdout",
     "output_type": "stream",
     "text": [
      "30\n",
      "{'name': 'Alice', 'city': 'New York'}\n"
     ]
    }
   ],
   "source": [
    "person = {\n",
    "    \"name\": \"Alice\",\n",
    "    \"age\": 30,\n",
    "    \"city\": \"New York\"\n",
    "}\n",
    "\n",
    "removed_age = person.pop(\"age\")\n",
    "print(removed_age) # Output: 30\n",
    "print(person)      # Output: {'name': 'Alice', 'city': 'New York'}"
   ]
  },
  {
   "cell_type": "code",
   "execution_count": 27,
   "id": "fb058a61",
   "metadata": {},
   "outputs": [
    {
     "name": "stdout",
     "output_type": "stream",
     "text": [
      "Unemployed\n",
      "{'name': 'Alice', 'city': 'New York'}\n"
     ]
    }
   ],
   "source": [
    "# Using with a default value\n",
    "job = person.pop(\"occupation\", \"Unemployed\")\n",
    "print(job)     # Output: Unemployed (since 'occupation' was not found)\n",
    "print(person)  # Output: {'name': 'Alice', 'city': 'New York'}"
   ]
  },
  {
   "cell_type": "code",
   "execution_count": 28,
   "id": "1a2e0e22",
   "metadata": {},
   "outputs": [
    {
     "name": "stdout",
     "output_type": "stream",
     "text": [
      "('city', 'New York')\n",
      "{'name': 'Alice', 'age': 30}\n"
     ]
    }
   ],
   "source": [
    "person = {\n",
    "    \"name\": \"Alice\",\n",
    "    \"age\": 30,\n",
    "    \"city\": \"New York\"\n",
    "}\n",
    "\n",
    "last_item = person.popitem()\n",
    "print(last_item) # Output: ('city', 'New York') (in Python 3.7+)\n",
    "print(person)    # Output: {'name': 'Alice', 'age': 30}"
   ]
  },
  {
   "cell_type": "code",
   "execution_count": 29,
   "id": "ae991ad3",
   "metadata": {},
   "outputs": [
    {
     "name": "stdout",
     "output_type": "stream",
     "text": [
      "{}\n"
     ]
    }
   ],
   "source": [
    "person = {\"name\": \"Alice\", \"age\": 30}\n",
    "person.clear()\n",
    "print(person) # Output: {}"
   ]
  },
  {
   "cell_type": "code",
   "execution_count": 30,
   "id": "8f6f26c5",
   "metadata": {},
   "outputs": [
    {
     "name": "stdout",
     "output_type": "stream",
     "text": [
      "2\n"
     ]
    }
   ],
   "source": [
    "my_dict = {\"a\": 1, \"b\": 2}\n",
    "print(len(my_dict)) # Output: 2"
   ]
  },
  {
   "cell_type": "code",
   "execution_count": 31,
   "id": "b3949f2d",
   "metadata": {},
   "outputs": [
    {
     "name": "stdout",
     "output_type": "stream",
     "text": [
      "{'a': 1, 'b': 3, 'c': 4}\n"
     ]
    }
   ],
   "source": [
    "dict1 = {\"a\": 1, \"b\": 2}\n",
    "dict2 = {\"b\": 3, \"c\": 4}\n",
    "\n",
    "dict1.update(dict2)\n",
    "print(dict1) # Output: {'a': 1, 'b': 3, 'c': 4} ( 'b' was updated)"
   ]
  },
  {
   "cell_type": "code",
   "execution_count": 32,
   "id": "c390f4a7",
   "metadata": {},
   "outputs": [
    {
     "name": "stdout",
     "output_type": "stream",
     "text": [
      "{'name': 'Bob', 'age': 25}\n"
     ]
    }
   ],
   "source": [
    "original_dict = {\"name\": \"Bob\", \"age\": 25}\n",
    "copied_dict = original_dict.copy()\n",
    "print(copied_dict) # Output: {'name': 'Bob', 'age': 25}"
   ]
  },
  {
   "cell_type": "code",
   "execution_count": 33,
   "id": "ccb88026",
   "metadata": {},
   "outputs": [
    {
     "name": "stdout",
     "output_type": "stream",
     "text": [
      "{'name': 'Bob', 'age': 25}\n",
      "{'name': 'Bob', 'age': 26}\n"
     ]
    }
   ],
   "source": [
    "copied_dict[\"age\"] = 26\n",
    "print(original_dict) # Output: {'name': 'Bob', 'age': 25} (original unchanged)\n",
    "print(copied_dict)   # Output: {'name': 'Bob', 'age': 26}"
   ]
  },
  {
   "cell_type": "code",
   "execution_count": 35,
   "id": "3f62d49e",
   "metadata": {},
   "outputs": [
    {
     "name": "stdout",
     "output_type": "stream",
     "text": [
      "{'k1': 0, 'k2': 0, 'k3': 0}\n"
     ]
    }
   ],
   "source": [
    "keys =[\"k1\",\"k2\",\"k3\"]\n",
    "default_values = 0\n",
    "new_dict =dict.fromkeys(keys, default_values)\n",
    "print(new_dict)  # Output : {'k1': 0, 'k2': 0, 'k3': 0}\n"
   ]
  },
  {
   "cell_type": "code",
   "execution_count": null,
   "id": "ab016325",
   "metadata": {},
   "outputs": [],
   "source": []
  }
 ],
 "metadata": {
  "kernelspec": {
   "display_name": "Python 3",
   "language": "python",
   "name": "python3"
  },
  "language_info": {
   "codemirror_mode": {
    "name": "ipython",
    "version": 3
   },
   "file_extension": ".py",
   "mimetype": "text/x-python",
   "name": "python",
   "nbconvert_exporter": "python",
   "pygments_lexer": "ipython3",
   "version": "3.13.5"
  }
 },
 "nbformat": 4,
 "nbformat_minor": 5
}
