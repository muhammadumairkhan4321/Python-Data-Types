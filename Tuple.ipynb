{
 "cells": [
  {
   "cell_type": "markdown",
   "id": "59bab011",
   "metadata": {},
   "source": [
    "## **Tuple**"
   ]
  },
  {
   "cell_type": "markdown",
   "id": "c0817315",
   "metadata": {},
   "source": [
    "A tuple in Python is similar to a list in many ways, but with one crucial difference: tuples are immutable.  \n",
    "    - **Ordered** ✓  \n",
    "      Like lists, tuple items have a defined order, and that order will not change. You can access items by their position (index).  \n",
    "    - **Immutable** ✖  \n",
    "      Once a tuple is created, you cannot change, add, or remove its items. This is the key distinction from lists.  \n",
    "    - **Heterogeneous Collection** ⊛  \n",
    "      A tuple can hold items of different data types (integers, floats, strings, even other lists or tuples)."
   ]
  },
  {
   "cell_type": "code",
   "execution_count": 1,
   "id": "b2770c6c",
   "metadata": {},
   "outputs": [
    {
     "name": "stdout",
     "output_type": "stream",
     "text": [
      "()\n"
     ]
    }
   ],
   "source": [
    "# Empty Tuple \n",
    "my_tuple =( )\n",
    "print(my_tuple)  #Output: ()"
   ]
  },
  {
   "cell_type": "code",
   "execution_count": 2,
   "id": "2139b25e",
   "metadata": {},
   "outputs": [
    {
     "name": "stdout",
     "output_type": "stream",
     "text": [
      "(1, 2, 3, 4)\n"
     ]
    }
   ],
   "source": [
    "# tuple of Numbers\n",
    "num_tuple=(1,2,3,4)\n",
    "print(num_tuple) # output: (1,2,3,4)\n"
   ]
  },
  {
   "cell_type": "code",
   "execution_count": 3,
   "id": "59903140",
   "metadata": {},
   "outputs": [
    {
     "name": "stdout",
     "output_type": "stream",
     "text": [
      "('Ali', 'Jalal', 'Hilal')\n"
     ]
    }
   ],
   "source": [
    "# string Tuple\n",
    "Str_tuple =(\"Ali\",\"Jalal\",\"Hilal\")\n",
    "print(Str_tuple)"
   ]
  },
  {
   "cell_type": "code",
   "execution_count": 4,
   "id": "1c932096",
   "metadata": {},
   "outputs": [
    {
     "name": "stdout",
     "output_type": "stream",
     "text": [
      "(10, 2.3, 'Khan', False)\n"
     ]
    }
   ],
   "source": [
    "# tuple with mixed data types\n",
    "mix_tuple =(10,2.3,\"Khan\",False)\n",
    "print(mix_tuple)"
   ]
  },
  {
   "cell_type": "code",
   "execution_count": 5,
   "id": "2db1356a",
   "metadata": {},
   "outputs": [
    {
     "name": "stdout",
     "output_type": "stream",
     "text": [
      "((1, 2), ('khan', 2.0), (10, 230))\n"
     ]
    }
   ],
   "source": [
    "# Nested Tuple\n",
    "Nes_tuple =((1,2),(\"khan\",2.0),(10,230))\n",
    "print(Nes_tuple)"
   ]
  },
  {
   "cell_type": "code",
   "execution_count": 7,
   "id": "8cfe50dc",
   "metadata": {},
   "outputs": [
    {
     "name": "stdout",
     "output_type": "stream",
     "text": [
      "apple\n",
      "cherry\n",
      "date\n",
      "banana\n"
     ]
    }
   ],
   "source": [
    "fruits_tuple = (\"apple\", \"banana\", \"cherry\", \"date\")\n",
    "\n",
    "print(fruits_tuple[0])   # Output: apple (first element)\n",
    "print(fruits_tuple[2])   # Output: cherry (third element)\n",
    "print(fruits_tuple[-1])  # Output: date (last element)\n",
    "print(fruits_tuple[1])   # Output: banana(second element)"
   ]
  },
  {
   "cell_type": "code",
   "execution_count": 8,
   "id": "2651ebcc",
   "metadata": {},
   "outputs": [
    {
     "name": "stdout",
     "output_type": "stream",
     "text": [
      "20\n"
     ]
    }
   ],
   "source": [
    "# Accessing elements in a nested tuple\n",
    "nested_tuple = ((10, 20), (30, 40))\n",
    "print(nested_tuple[0][1]) # Output: 20 (element at tuple 0, index 1)"
   ]
  },
  {
   "cell_type": "code",
   "execution_count": 11,
   "id": "f43012e1",
   "metadata": {},
   "outputs": [
    {
     "name": "stdout",
     "output_type": "stream",
     "text": [
      "(2, 3, 4, 5, 6)\n",
      "(0, 1, 2, 3, 4)\n",
      "(5, 6, 7, 8, 9)\n",
      "(0, 1, 2, 3, 4, 5, 6, 7, 8, 9)\n",
      "(0, 2, 4, 6, 8)\n",
      "(0, 1, 2, 3, 4, 5, 6, 7, 8, 9)\n",
      "(9, 7, 5, 3, 1)\n",
      "(9, 8, 7, 6, 5, 4, 3, 2, 1, 0)\n"
     ]
    }
   ],
   "source": [
    "numbers_tuple = (0, 1, 2, 3, 4, 5, 6, 7, 8, 9)\n",
    "\n",
    "print(numbers_tuple[2:7])    # Output: (2, 3, 4, 5, 6)\n",
    "print(numbers_tuple[:5])     # Output: (0, 1, 2, 3, 4)\n",
    "print(numbers_tuple[5:])     # Output: (5, 6, 7, 8, 9)\n",
    "print(numbers_tuple[:])      # Output: (0, 1, 2, 3, 4, 5, 6, 7, 8, 9) (a copy of the entire tuple)\n",
    "print(numbers_tuple[::2])    # Output: (0, 2, 4, 6, 8)\n",
    "print(numbers_tuple[::1])    # output: (0, 1, 2, 3, 4, 5, 6, 7, 8, 9)\n",
    "print(numbers_tuple[::-2])   # Output: (9, 7, 5, 3, 1)\n",
    "print(numbers_tuple[::-1])   # Output: (9, 8, 7, 6, 5, 4, 3, 2, 1, 0) (reverse the tuple)"
   ]
  },
  {
   "cell_type": "code",
   "execution_count": 1,
   "id": "0752d38b",
   "metadata": {},
   "outputs": [],
   "source": [
    "my_tuple = (1, 2, 3)\n",
    "\n",
    "# my_tuple[0] = 10  # TypeError: 'tuple' object does not support item assignment\n",
    "# my_tuple.append(4) # AttributeError: 'tuple' object has no attribute 'append'\n",
    "# my_tuple.remove(2) # AttributeError: 'tuple' object has no attribute 'remove'\n",
    "# del my_tuple[1]    # TypeError: 'tuple' object doesn't support item deletion"
   ]
  },
  {
   "cell_type": "code",
   "execution_count": 3,
   "id": "c3961307",
   "metadata": {},
   "outputs": [
    {
     "name": "stdout",
     "output_type": "stream",
     "text": [
      "(1, 2, 3, 4, 5, 6)\n"
     ]
    }
   ],
   "source": [
    "tup1 =(1,2,3)\n",
    "tup2 =(4,5,6)\n",
    "combined_tup =tup1+tup2\n",
    "print(combined_tup)   # Output : (1,2,3,4,5,6)"
   ]
  },
  {
   "cell_type": "code",
   "execution_count": 5,
   "id": "f9f44915",
   "metadata": {},
   "outputs": [
    {
     "name": "stdout",
     "output_type": "stream",
     "text": [
      "ha ha ha ha \n"
     ]
    }
   ],
   "source": [
    "repeated_tup =(\"ha \") * 4\n",
    "print(repeated_tup) "
   ]
  },
  {
   "cell_type": "code",
   "execution_count": 6,
   "id": "a12a4dd6",
   "metadata": {},
   "outputs": [
    {
     "name": "stdout",
     "output_type": "stream",
     "text": [
      "6\n"
     ]
    }
   ],
   "source": [
    "# Check lenght\n",
    "Tup_len =(10,20,30,40,90,500)\n",
    "print(len(Tup_len))"
   ]
  },
  {
   "cell_type": "code",
   "execution_count": 9,
   "id": "08f3e64d",
   "metadata": {},
   "outputs": [
    {
     "name": "stdout",
     "output_type": "stream",
     "text": [
      "4\n"
     ]
    }
   ],
   "source": [
    "count_tup =(1,2,3,2,3,2,2,5,5,6)\n",
    "print(count_tup.count(2))  # Output :4"
   ]
  },
  {
   "cell_type": "code",
   "execution_count": 12,
   "id": "41245c20",
   "metadata": {},
   "outputs": [
    {
     "name": "stdout",
     "output_type": "stream",
     "text": [
      "4\n"
     ]
    }
   ],
   "source": [
    "Aplhabet_tup =(\"a\",\"b\",\"c\",\"d\",\"e\")\n",
    "print(Aplhabet_tup.index(\"e\"))    # OUtput : 4 or -1"
   ]
  },
  {
   "cell_type": "code",
   "execution_count": 13,
   "id": "75439d37",
   "metadata": {},
   "outputs": [
    {
     "data": {
      "text/plain": [
       "('a', 'b', 'c', 'd', 'e')"
      ]
     },
     "execution_count": 13,
     "metadata": {},
     "output_type": "execute_result"
    }
   ],
   "source": [
    "Aplhabet_tup"
   ]
  },
  {
   "cell_type": "code",
   "execution_count": 16,
   "id": "9886505c",
   "metadata": {},
   "outputs": [
    {
     "name": "stdout",
     "output_type": "stream",
     "text": [
      "True\n",
      "True\n"
     ]
    }
   ],
   "source": [
    "print(\"b\" in Aplhabet_tup)    # Ouput: True(b present in Alphabet_tup)\n",
    "print(\"f\" not in Aplhabet_tup) # Output : True (f not present i Alphabet_tup)\n",
    "\n"
   ]
  },
  {
   "cell_type": "code",
   "execution_count": null,
   "id": "1684fca1",
   "metadata": {},
   "outputs": [],
   "source": []
  }
 ],
 "metadata": {
  "kernelspec": {
   "display_name": "Python 3",
   "language": "python",
   "name": "python3"
  },
  "language_info": {
   "codemirror_mode": {
    "name": "ipython",
    "version": 3
   },
   "file_extension": ".py",
   "mimetype": "text/x-python",
   "name": "python",
   "nbconvert_exporter": "python",
   "pygments_lexer": "ipython3",
   "version": "3.13.5"
  }
 },
 "nbformat": 4,
 "nbformat_minor": 5
}
